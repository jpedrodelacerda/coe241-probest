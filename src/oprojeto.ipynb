import pandas as pd
import numpy as np
import seaborn as sns

colors = {"idade": "Purple", "peso": "Red", "cargaFinal": "Green", "v02Max": "Blue"}

data = pd.read_csv("../data/dadosMedicos.csv", sep = " ")

* Estatísticas preliminares

Obtendo as estatísticas preliminares do conjunto de dados:

- Média

data_medias = data.mean(axis = 'index')
data_medias


- Variância

data_var = data.var(axis = 'index')
data_var


- Moda

data_moda = data.mode(axis = 'index')
data_moda


- Histogramas

  - Idade
  
sns.distplot(data['idade'])

  - Peso
  
sns.distplot(data['peso'])

  - Carga Final

sns.distplot(data['cargaFinal'])

  - VO2 Máximo

sns.distplot(data['vo2Max'])

